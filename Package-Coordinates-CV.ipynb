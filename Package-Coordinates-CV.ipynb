version https://git-lfs.github.com/spec/v1
oid sha256:4b41e4c854e70aaf3cd32292702036246c51cd73ecf06541a57191ac12d2a8a0
size 64155
