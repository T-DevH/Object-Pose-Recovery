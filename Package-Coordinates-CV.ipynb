version https://git-lfs.github.com/spec/v1
oid sha256:48e8e665b90a15d297f5e17766e9e37586a854c48cbbe100d98f7b265af64e15
size 64158
