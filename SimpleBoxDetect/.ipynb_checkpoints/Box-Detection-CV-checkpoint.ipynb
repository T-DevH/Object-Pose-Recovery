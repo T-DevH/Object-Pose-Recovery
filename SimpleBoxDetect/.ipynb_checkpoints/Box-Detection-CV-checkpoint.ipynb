{
 "cells": [
  {
   "cell_type": "code",
   "execution_count": 1,
   "metadata": {},
   "outputs": [],
   "source": [
    "from IPython.display import Latex\n",
    "import numpy as np\n",
    "from PIL import Image\n",
    "from PIL import ImageDraw\n",
    "# import matplotlib\n",
    "# matplotlib.use(\"Agg\")\n",
    "from matplotlib import pyplot as plt\n",
    "# import matplotlib.animation as manimation"
   ]
  },
  {
   "cell_type": "code",
   "execution_count": 2,
   "metadata": {},
   "outputs": [],
   "source": [
    "# Let us define intrinsic camera matrix and camera location\n",
    "\n",
    "K = np.array([[600., 0., 300.],\n",
    "              [0., 600., 200.],\n",
    "              [0.,   0., 1.]])\n",
    "\n",
    "cam_xyz = np.array([[0, -1., 1.5]]).T\n"
   ]
  },
  {
   "cell_type": "code",
   "execution_count": 3,
   "metadata": {},
   "outputs": [],
   "source": [
    "# let us find extrinsic camera matrix\n",
    "\n",
    "def get_zxz(a, b, g):\n",
    "    \"\"\"returns rotation matrix according to ZXZ euler schema\n",
    "    \"\"\"\n",
    "    c1, s1 = np.cos(a), np.sin(a)\n",
    "    c2, s2 = np.cos(b), np.sin(b)\n",
    "    c3, s3 = np.cos(g), np.sin(g)\n",
    "\n",
    "    return np.array([\n",
    "        [c1*c3-c2*s1*s3,-c1*s3-c2*c3*s1, s1*s2],\n",
    "        [c3*s1+c1*c2*s3, c1*c2*c3-s1*s3,-c1*s2],\n",
    "        [s2*s3,          c3*s2,          c2]\n",
    "        ])"
   ]
  },
  {
   "cell_type": "code",
   "execution_count": 4,
   "metadata": {},
   "outputs": [],
   "source": [
    "R = get_zxz(0, -np.pi/2 -np.pi/3, 0)\n",
    "T = -R.T.dot(cam_xyz)\n",
    "RT = np.hstack([ R.transpose(), T])\n",
    "RT\n",
    "M = K.dot(RT)"
   ]
  },
  {
   "cell_type": "code",
   "execution_count": 5,
   "metadata": {},
   "outputs": [
    {
     "data": {
      "text/plain": [
       "(300.0, 161.30418691466295)"
      ]
     },
     "execution_count": 5,
     "metadata": {},
     "output_type": "execute_result"
    }
   ],
   "source": [
    "# Let us check where comes global origin in the image\n",
    "\n",
    "X,Y,Z = (0, 0, 0)\n",
    "u,v,w = M.dot(np.array([X, Y, Z, 1]))\n",
    "u/w, v/w"
   ]
  },
  {
   "cell_type": "code",
   "execution_count": 6,
   "metadata": {},
   "outputs": [],
   "source": [
    "def rotate(p, angle):\n",
    "    c, s = np.cos(angle), np.sin(angle)\n",
    "    return np.array([ [c,-s, 0],\n",
    "                      [s, c, 0],\n",
    "                      [0, 0, 1]]).dot(p)\n",
    "\n"
   ]
  },
  {
   "cell_type": "code",
   "execution_count": 7,
   "metadata": {},
   "outputs": [],
   "source": [
    "# dimensions 60cm x 40cm x 30cm\n",
    "\n",
    "Dims = [np.array([0.6, 0.4, 0.3]), \n",
    "        np.array([0.4, 0.4, 0.35]), \n",
    "        np.array([0.4, 0.3, 0.2])]"
   ]
  },
  {
   "cell_type": "code",
   "execution_count": 8,
   "metadata": {},
   "outputs": [],
   "source": [
    "def poly_list(x, y, a, ix):\n",
    "    dx, dy, z = Dims[int(ix)] / 2\n",
    "    top = [ np.array([-dx,-dy, 2*z]),\n",
    "            np.array([ dx,-dy, 2*z]),\n",
    "            np.array([ dx, dy, 2*z]),\n",
    "            np.array([-dx, dy, 2*z]) ]\n",
    "    top = [ rotate(p, a) for p in top ]\n",
    "    t = np.array([x, y, 0])\n",
    "    top = [p + t for p in top]\n",
    "    Ls = [top]\n",
    "    for i in range(4):\n",
    "        Ls.append([top[i], top[i-1], top[i-1]-np.array([0,0,2*z]), top[i]-np.array([0,0,2*z])])\n",
    "    return Ls"
   ]
  },
  {
   "cell_type": "code",
   "execution_count": 9,
   "metadata": {},
   "outputs": [],
   "source": [
    "# generating image\n",
    "def gen_img(dx, dy, a, ix):\n",
    "    polygons = [[ M.dot(np.array([x,y,z,1])) for x,y,z in poly] for poly in poly_list(dx, dy, a, ix)]\n",
    "    pix = [[(u/w, v/w) for u,v,w in poly] for poly in polygons]\n",
    "    \n",
    "    im = Image.new('L', (600,400), 0)\n",
    "    draw = ImageDraw.Draw(im)\n",
    "    [draw.polygon(shape,fill=255) for shape in pix]\n",
    "    \n",
    "    return im\n"
   ]
  },
  {
   "cell_type": "code",
   "execution_count": 10,
   "metadata": {},
   "outputs": [
    {
     "data": {
      "image/png": "[encoded data removed]",
      "text/plain": [
       "<PIL.Image.Image image mode=L size=600x400 at 0x7FC9E6F748D0>"
      ]
     },
     "execution_count": 10,
     "metadata": {},
     "output_type": "execute_result"
    }
   ],
   "source": [
    "BoxType = 2\n",
    "Angle = 0.4\n",
    "X = 0.1\n",
    "Y = -0.1\n",
    "cam_shot = gen_img(X,Y,Angle,BoxType)\n",
    "cam_shot\n"
   ]
  },
  {
   "cell_type": "code",
   "execution_count": 11,
   "metadata": {},
   "outputs": [],
   "source": [
    "CAM_ARR = (np.array(cam_shot) > 100)\n",
    "WEIGHT = CAM_ARR.sum()\n",
    "\n",
    "def loss(gen_im):\n",
    "    return (np.logical_xor(CAM_ARR, (np.array(gen_im, dtype='uint8') > 100)).astype('int')).sum()\n"
   ]
  },
  {
   "cell_type": "code",
   "execution_count": 12,
   "metadata": {},
   "outputs": [
    {
     "name": "stdout",
     "output_type": "stream",
     "text": [
      "15601 pixels do not match\n"
     ]
    },
    {
     "data": {
      "image/png": "[encoded data removed]",
      "text/plain": [
       "<Figure size 432x288 with 1 Axes>"
      ]
     },
     "metadata": {
      "needs_background": "light"
     },
     "output_type": "display_data"
    }
   ],
   "source": [
    "init = np.array([np.random.normal(scale=0.1), \n",
    "                 np.random.normal(scale=0.1), \n",
    "                 np.random.uniform(-np.pi/2, np.pi/2),\n",
    "                 np.random.choice(len(Dims))])\n",
    "val = loss(gen_img(*init))\n",
    "print(\"%i pixels do not match\" % val)\n",
    "plt.figure(figsize=(6,4))\n",
    "plt.imshow(np.logical_xor(CAM_ARR, (np.array(gen_img(*init),dtype='uint8')>100)).astype('int'))\n",
    "plt.show()\n"
   ]
  },
  {
   "cell_type": "code",
   "execution_count": 13,
   "metadata": {},
   "outputs": [],
   "source": [
    "def accepted(New, Old):\n",
    "    v = -(New - Old)/Old * 30\n",
    "    if v >= 0: return True\n",
    "    return np.exp(v) > np.random.random()"
   ]
  },
  {
   "cell_type": "code",
   "execution_count": 14,
   "metadata": {},
   "outputs": [
    {
     "name": "stdout",
     "output_type": "stream",
     "text": [
      "1000 iteration done\n"
     ]
    }
   ],
   "source": [
    "curr = init.copy()\n",
    "curr_val = val.copy()\n",
    "history = [(val, curr)]\n",
    "rejected = 0\n",
    "i = 0\n",
    "while curr_val > 50 and i < 1000:\n",
    "    i += 1\n",
    "    dx, dy, da = np.random.normal(scale=(0.005, 0.005, 0.1), size=3)\n",
    "    dix = np.random.choice([-1,0,1], p=[0.1, 0.8, 0.1])\n",
    "    new = curr + np.array([dx, dy, da, dix])\n",
    "    if new[3] >= len(Dims): new[3] = len(Dims) - 1\n",
    "    elif new[3] < 0: new[3] = 0\n",
    "        \n",
    "    if abs(new[0]) > 0.3 or abs(new[1]) > 0.2 or rejected > 20:\n",
    "        curr = np.array([np.random.normal(scale=0.1), \n",
    "                         np.random.normal(scale=0.1), \n",
    "                         np.random.uniform(-np.pi/2, np.pi/2),\n",
    "                         np.random.choice(len(Dims))\n",
    "                        ])\n",
    "        curr_val = loss(gen_img(*curr))\n",
    "        rejected = 0\n",
    "        continue\n",
    "    new_val = loss(gen_img(*new))\n",
    "    \n",
    "    if accepted(new_val, curr_val):\n",
    "        curr_val = new_val\n",
    "        curr = new.copy()\n",
    "        history.append((curr_val, curr.copy()))\n",
    "        rejected = 0\n",
    "    else:\n",
    "        rejected += 1\n",
    "print(\"%i iteration done\" % i,)\n"
   ]
  },
  {
   "cell_type": "code",
   "execution_count": 15,
   "metadata": {},
   "outputs": [
    {
     "name": "stdout",
     "output_type": "stream",
     "text": [
      "Image match: 98.6%\n"
     ]
    }
   ],
   "source": [
    "v, best = min(history, key=lambda x: x[0])\n",
    "print(\"Image match: %.1f%%\" % ((100*(1-float(v)/WEIGHT))))"
   ]
  },
  {
   "cell_type": "code",
   "execution_count": 16,
   "metadata": {},
   "outputs": [
    {
     "data": {
      "text/plain": [
       "array([ 0.09992728, -0.09991373,  0.40964456,  2.        ])"
      ]
     },
     "execution_count": 16,
     "metadata": {},
     "output_type": "execute_result"
    }
   ],
   "source": [
    "best"
   ]
  },
  {
   "cell_type": "code",
   "execution_count": 17,
   "metadata": {},
   "outputs": [
    {
     "data": {
      "image/png": "[encoded data removed]",
      "text/plain": [
       "<Figure size 576x432 with 1 Axes>"
      ]
     },
     "metadata": {
      "needs_background": "light"
     },
     "output_type": "display_data"
    }
   ],
   "source": [
    "vals,_ = zip(*history)\n",
    "plt.figure(figsize=(8,6))\n",
    "plt.plot(vals)\n",
    "plt.plot([0,len(history)+2],[0,0], '--k')\n",
    "plt.show()"
   ]
  },
  {
   "cell_type": "code",
   "execution_count": 18,
   "metadata": {},
   "outputs": [
    {
     "data": {
      "image/png": "[encoded data removed]",
      "text/plain": [
       "<Figure size 864x288 with 3 Axes>"
      ]
     },
     "metadata": {
      "needs_background": "light"
     },
     "output_type": "display_data"
    }
   ],
   "source": [
    "plt.figure(figsize=(12,4))\n",
    "ax1 = plt.subplot(1,3,1)\n",
    "plt.imshow(gen_img(*best))\n",
    "ax1.title.set_text(\"Learned\")\n",
    "\n",
    "ax2 = plt.subplot(1,3,2)\n",
    "plt.imshow(cam_shot)\n",
    "ax2.title.set_text(\"Original\")\n",
    "\n",
    "ax3 = plt.subplot(1,3,3)\n",
    "plt.imshow((CAM_ARR - np.array(gen_img(*best))).astype('int8'))\n",
    "plt.imshow(np.logical_xor(CAM_ARR, (np.array(gen_img(*best),\n",
    "                        dtype='uint8')>100)).astype('float'))\n",
    "ax3.title.set_text(\"Error\")"
   ]
  },
  {
   "cell_type": "code",
   "execution_count": 19,
   "metadata": {},
   "outputs": [
    {
     "name": "stdout",
     "output_type": "stream",
     "text": [
      "\n",
      "XY error:   0 x 0 mm\n",
      "Angle error: 0.6 degrees\n",
      "Box type:    correct\n"
     ]
    }
   ],
   "source": [
    "plt.show()\n",
    "\n",
    "error = best - np.array([X,Y,Angle,BoxType])\n",
    "print(\"\\nXY error:   %i x %i mm\" % tuple(error[:2]*1000))\n",
    "print(\"Angle error: %.1f degrees\" % np.degrees(error[2]))\n",
    "print(\"Box type:    %s\" % (\"correct\" if error[3]==0 else \"incorrect\"))"
   ]
  },
  {
   "cell_type": "code",
   "execution_count": null,
   "metadata": {},
   "outputs": [],
   "source": []
  }
 ],
 "metadata": {
  "kernelspec": {
   "display_name": "Python 3",
   "language": "python",
   "name": "python3"
  },
  "language_info": {
   "codemirror_mode": {
    "name": "ipython",
    "version": 3
   },
   "file_extension": ".py",
   "mimetype": "text/x-python",
   "name": "python",
   "nbconvert_exporter": "python",
   "pygments_lexer": "ipython3",
   "version": "3.6.9"
  }
 },
 "nbformat": 4,
 "nbformat_minor": 4
}
