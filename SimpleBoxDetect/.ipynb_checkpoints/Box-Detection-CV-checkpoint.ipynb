version https://git-lfs.github.com/spec/v1
oid sha256:e2cb4c7e8e79f1b520768ff7d0282e4e9d52f22e23c8c99c1235d8a9994bd4c3
size 56944
